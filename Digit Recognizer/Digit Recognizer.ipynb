{
 "cells": [
  {
   "cell_type": "code",
   "execution_count": 22,
   "metadata": {},
   "outputs": [],
   "source": [
    "import keras\n",
    "from keras.layers import Dense, BatchNormalization, Dropout, GlobalAveragePooling2D\n",
    "from keras.models import Sequential\n",
    "from keras.preprocessing.image import ImageDataGenerator\n",
    "from keras.utils.np_utils import to_categorical\n",
    "from keras.models import Sequential\n",
    "from keras.layers import Conv2D, MaxPooling2D\n",
    "from keras.layers import Activation, Dropout, Flatten, Dense\n",
    "from keras.callbacks import EarlyStopping\n",
    "from keras.optimizers import Adam\n",
    "from keras.datasets import mnist\n",
    "\n",
    "\n",
    "import pandas as pd\n",
    "import numpy as np"
   ]
  },
  {
   "cell_type": "code",
   "execution_count": 3,
   "metadata": {},
   "outputs": [],
   "source": [
    "%matplotlib inline\n",
    "import matplotlib.pyplot as plt"
   ]
  },
  {
   "cell_type": "code",
   "execution_count": 4,
   "metadata": {},
   "outputs": [],
   "source": [
    "data = pd.read_csv('train.csv')\n",
    "data_test = pd.read_csv('test.csv')"
   ]
  },
  {
   "cell_type": "code",
   "execution_count": 23,
   "metadata": {},
   "outputs": [],
   "source": [
    "(keras_train_images, keras_train_labels), (keras_test_images, keras_test_labels)   = mnist.load_data()\n"
   ]
  },
  {
   "cell_type": "code",
   "execution_count": 26,
   "metadata": {},
   "outputs": [],
   "source": [
    "keras_train_images = keras_train_images/255.0\n",
    "keras_train_images = keras_train_images.reshape(keras_train_images.shape[0], 28, 28, 1)\n",
    "\n",
    "keras_test_images = keras_test_images/255.0\n",
    "keras_test_images = keras_test_images.reshape(keras_test_images.shape[0], 28, 28, 1)\n",
    "\n"
   ]
  },
  {
   "cell_type": "code",
   "execution_count": 29,
   "metadata": {},
   "outputs": [],
   "source": [
    "keras_train_labels = to_categorical(keras_train_labels)\n",
    "keras_test_labels = to_categorical(keras_test_labels)\n"
   ]
  },
  {
   "cell_type": "code",
   "execution_count": null,
   "metadata": {},
   "outputs": [],
   "source": []
  },
  {
   "cell_type": "code",
   "execution_count": 5,
   "metadata": {},
   "outputs": [],
   "source": [
    "test = data_test.values\n",
    "\n",
    "\n",
    "label = to_categorical(data.label)\n",
    "data = data.values\n",
    "train = data[:, 1:]"
   ]
  },
  {
   "cell_type": "code",
   "execution_count": 6,
   "metadata": {},
   "outputs": [
    {
     "data": {
      "text/plain": [
       "(<matplotlib.image.AxesImage at 0x250f71f61d0>,\n",
       " array([0., 1., 0., 0., 0., 0., 0., 0., 0., 0.], dtype=float32))"
      ]
     },
     "execution_count": 6,
     "metadata": {},
     "output_type": "execute_result"
    },
    {
     "data": {
      "image/png": "[encoded data removed]",
      "text/plain": [
       "<Figure size 432x288 with 1 Axes>"
      ]
     },
     "metadata": {},
     "output_type": "display_data"
    }
   ],
   "source": [
    "plt.imshow(train[12].reshape(28,28)), label[12]"
   ]
  },
  {
   "cell_type": "code",
   "execution_count": 7,
   "metadata": {},
   "outputs": [],
   "source": [
    "train = train.reshape(train.shape[0], 28, 28, 1)\n",
    "test = test.reshape(test.shape[0], 28, 28, 1)"
   ]
  },
  {
   "cell_type": "code",
   "execution_count": 8,
   "metadata": {},
   "outputs": [
    {
     "data": {
      "text/plain": [
       "((42000, 28, 28, 1), (28000, 28, 28, 1))"
      ]
     },
     "execution_count": 8,
     "metadata": {},
     "output_type": "execute_result"
    }
   ],
   "source": [
    "train.shape, test.shape"
   ]
  },
  {
   "cell_type": "code",
   "execution_count": 9,
   "metadata": {},
   "outputs": [],
   "source": [
    "train = train/255.0\n",
    "test = test/255.0"
   ]
  },
  {
   "cell_type": "code",
   "execution_count": 10,
   "metadata": {},
   "outputs": [],
   "source": [
    "from sklearn.model_selection import train_test_split\n",
    "x_train, x_test, y_train, y_test = train_test_split(train, label, test_size=0.1)"
   ]
  },
  {
   "cell_type": "code",
   "execution_count": 32,
   "metadata": {},
   "outputs": [],
   "source": [
    "x_train = np.concatenate((x_train, keras_train_images), axis=0)\n",
    "y_train = np.concatenate((y_train, keras_train_labels),axis=0)"
   ]
  },
  {
   "cell_type": "code",
   "execution_count": 35,
   "metadata": {},
   "outputs": [],
   "source": [
    "x_test = np.concatenate((x_test, keras_test_images), axis=0)\n",
    "y_test = np.concatenate((y_test, keras_test_labels),axis=0)"
   ]
  },
  {
   "cell_type": "code",
   "execution_count": null,
   "metadata": {},
   "outputs": [],
   "source": []
  },
  {
   "cell_type": "code",
   "execution_count": 44,
   "metadata": {},
   "outputs": [],
   "source": [
    "datagen = ImageDataGenerator(\n",
    "        shear_range=0.2,\n",
    "        zoom_range=0.2,\n",
    "        rotation_range=0.3,\n",
    "        fill_mode='nearest')\n",
    "datagen.fit(x_train)"
   ]
  },
  {
   "cell_type": "code",
   "execution_count": null,
   "metadata": {},
   "outputs": [],
   "source": []
  },
  {
   "cell_type": "code",
   "execution_count": 45,
   "metadata": {},
   "outputs": [],
   "source": [
    "# Create the model\n",
    "model = Sequential()\n",
    "\n",
    "model.add(Conv2D(32, kernel_size=(3, 3), activation='relu', padding='same', input_shape=(28, 28, 1)))\n",
    "model.add(Conv2D(64, kernel_size=(3, 3), padding='same', activation='relu'))\n",
    "model.add(MaxPooling2D(pool_size=(2, 2)))\n",
    "model.add(BatchNormalization())\n",
    "\n",
    "model.add(Conv2D(128, kernel_size=(3, 3),  padding='same', activation='relu'))\n",
    "model.add(BatchNormalization())\n",
    "model.add(Conv2D(128, kernel_size=(3, 3),  padding='same', activation='relu'))\n",
    "model.add(MaxPooling2D(pool_size=(2, 2)))\n",
    "model.add(BatchNormalization())\n",
    "\n",
    "\n",
    "model.add(Flatten())\n",
    "model.add(Dense(1024, activation='relu'))\n",
    "model.add(Dropout(0.2))\n",
    "model.add(Dense(1024, activation='relu'))\n",
    "model.add(Dense(10, activation='softmax'))\n",
    "#model.compile(optimizer='rmsprop', loss='categorical_crossentropy', metrics=['accuracy'])\n",
    "adam = Adam(lr=0.0001, decay=1e-6)\n",
    "model.compile(optimizer=adam, loss='categorical_crossentropy', metrics=['accuracy'])\n",
    "\n"
   ]
  },
  {
   "cell_type": "code",
   "execution_count": 46,
   "metadata": {},
   "outputs": [],
   "source": [
    "#train_datagen = ImageDataGenerator(shear_range=0.2, zoom_range=0.2, horizontal_flip=True, rotation_range=0.2)\n",
    "#train_datagen.fit(x_train)"
   ]
  },
  {
   "cell_type": "code",
   "execution_count": 47,
   "metadata": {
    "scrolled": true
   },
   "outputs": [
    {
     "name": "stdout",
     "output_type": "stream",
     "text": [
      "Epoch 1/100\n",
      "382/382 [==============================] - 12s 31ms/step - loss: 0.2589 - acc: 0.9169 - val_loss: 0.0808 - val_acc: 0.9755\n",
      "Epoch 2/100\n",
      "382/382 [==============================] - 10s 26ms/step - loss: 0.1170 - acc: 0.9638 - val_loss: 0.0656 - val_acc: 0.9809\n",
      "Epoch 3/100\n",
      "382/382 [==============================] - 10s 26ms/step - loss: 0.0811 - acc: 0.9750 - val_loss: 0.0635 - val_acc: 0.9808\n",
      "Epoch 4/100\n",
      "382/382 [==============================] - 10s 26ms/step - loss: 0.0797 - acc: 0.9762 - val_loss: 0.0551 - val_acc: 0.9830\n",
      "Epoch 5/100\n",
      "382/382 [==============================] - 10s 26ms/step - loss: 0.0717 - acc: 0.9780 - val_loss: 0.0655 - val_acc: 0.9790\n",
      "Epoch 6/100\n",
      "382/382 [==============================] - 10s 27ms/step - loss: 0.0686 - acc: 0.9788 - val_loss: 0.0397 - val_acc: 0.9870\n",
      "Epoch 7/100\n",
      "382/382 [==============================] - 10s 26ms/step - loss: 0.0560 - acc: 0.9833 - val_loss: 0.0367 - val_acc: 0.9883\n",
      "Epoch 8/100\n",
      "382/382 [==============================] - 10s 26ms/step - loss: 0.0566 - acc: 0.9827 - val_loss: 0.0472 - val_acc: 0.9848\n",
      "Epoch 9/100\n",
      "382/382 [==============================] - 10s 26ms/step - loss: 0.0508 - acc: 0.9841 - val_loss: 0.0246 - val_acc: 0.9916\n",
      "Epoch 10/100\n",
      "382/382 [==============================] - 10s 26ms/step - loss: 0.0507 - acc: 0.9851 - val_loss: 0.0519 - val_acc: 0.9848\n",
      "Epoch 11/100\n",
      "382/382 [==============================] - 10s 26ms/step - loss: 0.0430 - acc: 0.9866 - val_loss: 0.0367 - val_acc: 0.9882\n",
      "Epoch 12/100\n",
      "382/382 [==============================] - 10s 26ms/step - loss: 0.0483 - acc: 0.9863 - val_loss: 0.0398 - val_acc: 0.9881\n",
      "Epoch 13/100\n",
      "382/382 [==============================] - 10s 26ms/step - loss: 0.0433 - acc: 0.9874 - val_loss: 0.0299 - val_acc: 0.9908\n",
      "Epoch 14/100\n",
      "382/382 [==============================] - 10s 26ms/step - loss: 0.0421 - acc: 0.9866 - val_loss: 0.0467 - val_acc: 0.9856\n",
      "Epoch 15/100\n",
      "382/382 [==============================] - 10s 26ms/step - loss: 0.0357 - acc: 0.9890 - val_loss: 0.0366 - val_acc: 0.9897\n",
      "Epoch 16/100\n",
      "382/382 [==============================] - 10s 26ms/step - loss: 0.0361 - acc: 0.9896 - val_loss: 0.0403 - val_acc: 0.9881\n",
      "Epoch 17/100\n",
      "382/382 [==============================] - 10s 26ms/step - loss: 0.0353 - acc: 0.9888 - val_loss: 0.0304 - val_acc: 0.9897\n",
      "Epoch 18/100\n",
      "382/382 [==============================] - 10s 26ms/step - loss: 0.0329 - acc: 0.9908 - val_loss: 0.0330 - val_acc: 0.9898\n",
      "Epoch 19/100\n",
      "382/382 [==============================] - 10s 26ms/step - loss: 0.0396 - acc: 0.9885 - val_loss: 0.0224 - val_acc: 0.9927\n",
      "Epoch 20/100\n",
      "382/382 [==============================] - 10s 26ms/step - loss: 0.0298 - acc: 0.9910 - val_loss: 0.0178 - val_acc: 0.9949\n",
      "Epoch 21/100\n",
      "382/382 [==============================] - 10s 26ms/step - loss: 0.0387 - acc: 0.9885 - val_loss: 0.0202 - val_acc: 0.9932\n",
      "Epoch 22/100\n",
      "382/382 [==============================] - 10s 26ms/step - loss: 0.0318 - acc: 0.9902 - val_loss: 0.0220 - val_acc: 0.9926\n",
      "Epoch 23/100\n",
      "382/382 [==============================] - 10s 26ms/step - loss: 0.0329 - acc: 0.9895 - val_loss: 0.0222 - val_acc: 0.9938\n",
      "Epoch 24/100\n",
      "382/382 [==============================] - 10s 26ms/step - loss: 0.0317 - acc: 0.9911 - val_loss: 0.0131 - val_acc: 0.9949\n",
      "Epoch 25/100\n",
      "382/382 [==============================] - 10s 26ms/step - loss: 0.0257 - acc: 0.9916 - val_loss: 0.0217 - val_acc: 0.9935\n",
      "Epoch 26/100\n",
      "382/382 [==============================] - 10s 26ms/step - loss: 0.0323 - acc: 0.9913 - val_loss: 0.0163 - val_acc: 0.9948\n",
      "Epoch 27/100\n",
      "382/382 [==============================] - 10s 26ms/step - loss: 0.0256 - acc: 0.9925 - val_loss: 0.0147 - val_acc: 0.9954\n",
      "Epoch 28/100\n",
      "382/382 [==============================] - 10s 26ms/step - loss: 0.0289 - acc: 0.9913 - val_loss: 0.0233 - val_acc: 0.9925\n",
      "Epoch 29/100\n",
      "382/382 [==============================] - 10s 26ms/step - loss: 0.0228 - acc: 0.9922 - val_loss: 0.0246 - val_acc: 0.9927\n",
      "Epoch 30/100\n",
      "382/382 [==============================] - 10s 26ms/step - loss: 0.0258 - acc: 0.9933 - val_loss: 0.0202 - val_acc: 0.9942\n",
      "Epoch 31/100\n",
      "382/382 [==============================] - 10s 26ms/step - loss: 0.0330 - acc: 0.9895 - val_loss: 0.0290 - val_acc: 0.9918\n",
      "Epoch 32/100\n",
      "382/382 [==============================] - 10s 26ms/step - loss: 0.0207 - acc: 0.9932 - val_loss: 0.0187 - val_acc: 0.9944\n",
      "Epoch 33/100\n",
      "382/382 [==============================] - 10s 26ms/step - loss: 0.0224 - acc: 0.9937 - val_loss: 0.0193 - val_acc: 0.9944\n",
      "Epoch 34/100\n",
      "382/382 [==============================] - 10s 26ms/step - loss: 0.0251 - acc: 0.9926 - val_loss: 0.0178 - val_acc: 0.9949\n"
     ]
    },
    {
     "data": {
      "text/plain": [
       "<keras.callbacks.History at 0x2523a958b00>"
      ]
     },
     "execution_count": 47,
     "metadata": {},
     "output_type": "execute_result"
    }
   ],
   "source": [
    "model.fit_generator(datagen.flow(x_train, y_train), x_train.shape[0] // 256, epochs=100, workers=4,\n",
    "                   validation_data=(x_test, y_test), callbacks=[EarlyStopping(min_delta=0.001, patience=10)])"
   ]
  },
  {
   "cell_type": "code",
   "execution_count": 48,
   "metadata": {},
   "outputs": [],
   "source": [
    "preds = model.predict(test)"
   ]
  },
  {
   "cell_type": "code",
   "execution_count": 49,
   "metadata": {},
   "outputs": [],
   "source": [
    "def save_preds(preds, fname):\n",
    "    pred = np.argmax(preds, axis=1)\n",
    "    with open(fname, \"w\") as fp:\n",
    "        fp.write(\"ImageId,Label\\n\")\n",
    "        for i, p in enumerate(pred):\n",
    "            fp.write(\"{},{}\\n\".format(i+1, p))\n",
    "        \n",
    "    "
   ]
  },
  {
   "cell_type": "code",
   "execution_count": null,
   "metadata": {},
   "outputs": [],
   "source": []
  },
  {
   "cell_type": "code",
   "execution_count": 50,
   "metadata": {},
   "outputs": [],
   "source": [
    "save_preds(preds, 'sub_1.csv')"
   ]
  },
  {
   "cell_type": "code",
   "execution_count": null,
   "metadata": {},
   "outputs": [],
   "source": [
    "history = model.fit_generator(datagen.flow(x_train, y_train, batch_size=batch_size),\n",
    "                        steps_per_epoch=x_train.shape[0] // batch_size,\n",
    "                        epochs=20,\n",
    "                        validation_data=(x_test, y_test))"
   ]
  },
  {
   "cell_type": "code",
   "execution_count": null,
   "metadata": {},
   "outputs": [],
   "source": []
  },
  {
   "cell_type": "code",
   "execution_count": null,
   "metadata": {},
   "outputs": [],
   "source": []
  },
  {
   "cell_type": "code",
   "execution_count": null,
   "metadata": {},
   "outputs": [],
   "source": []
  },
  {
   "cell_type": "code",
   "execution_count": null,
   "metadata": {},
   "outputs": [],
   "source": []
  },
  {
   "cell_type": "code",
   "execution_count": null,
   "metadata": {},
   "outputs": [],
   "source": []
  },
  {
   "cell_type": "code",
   "execution_count": null,
   "metadata": {},
   "outputs": [],
   "source": []
  },
  {
   "cell_type": "code",
   "execution_count": null,
   "metadata": {},
   "outputs": [],
   "source": [
    "\n"
   ]
  }
 ],
 "metadata": {
  "kernelspec": {
   "display_name": "Python 3",
   "language": "python",
   "name": "python3"
  },
  "language_info": {
   "codemirror_mode": {
    "name": "ipython",
    "version": 3
   },
   "file_extension": ".py",
   "mimetype": "text/x-python",
   "name": "python",
   "nbconvert_exporter": "python",
   "pygments_lexer": "ipython3",
   "version": "3.6.5"
  }
 },
 "nbformat": 4,
 "nbformat_minor": 2
}
