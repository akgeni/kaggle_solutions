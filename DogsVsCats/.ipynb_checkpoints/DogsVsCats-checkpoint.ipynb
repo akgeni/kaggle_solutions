{
 "cells": [
  {
   "cell_type": "markdown",
   "metadata": {},
   "source": [
    "## Introduction to our first task: 'Dogs vs Cats'"
   ]
  },
  {
   "cell_type": "code",
   "execution_count": 1,
   "metadata": {},
   "outputs": [],
   "source": [
    "%reload_ext autoreload\n",
    "%autoreload 2\n",
    "%matplotlib inline"
   ]
  },
  {
   "cell_type": "code",
   "execution_count": 2,
   "metadata": {},
   "outputs": [],
   "source": [
    "import pandas as pd"
   ]
  },
  {
   "cell_type": "code",
   "execution_count": 3,
   "metadata": {},
   "outputs": [],
   "source": [
    "PATH = \"d:\\\\data\\\\fastai_data\\\\dogscats\\\\\"\n",
    "sz=224\n",
    "batch_size=64"
   ]
  },
  {
   "cell_type": "code",
   "execution_count": 38,
   "metadata": {},
   "outputs": [
    {
     "data": {
      "text/plain": [
       "50000"
      ]
     },
     "execution_count": 38,
     "metadata": {},
     "output_type": "execute_result"
    }
   ],
   "source": [
    "PATH = \"d:\\\\data\\\\cifar-10\\\\\"\n",
    "cifar_train_path = f'{PATH}train'\n",
    "len(os.listdir(cifar_train_path))"
   ]
  },
  {
   "cell_type": "code",
   "execution_count": null,
   "metadata": {},
   "outputs": [],
   "source": []
  },
  {
   "cell_type": "code",
   "execution_count": 5,
   "metadata": {},
   "outputs": [
    {
     "name": "stderr",
     "output_type": "stream",
     "text": [
      "C:\\Users\\anshu\\Anaconda3\\lib\\site-packages\\h5py\\__init__.py:36: FutureWarning: Conversion of the second argument of issubdtype from `float` to `np.floating` is deprecated. In future, it will be treated as `np.float64 == np.dtype(float).type`.\n",
      "  from ._conv import register_converters as _register_converters\n",
      "Using TensorFlow backend.\n"
     ]
    }
   ],
   "source": [
    "import numpy as np\n",
    "from keras.preprocessing.image import ImageDataGenerator\n",
    "from keras.preprocessing import image\n",
    "from keras.layers import Dropout, Flatten, Dense\n",
    "from keras.applications import ResNet50\n",
    "from keras.models import Model, Sequential\n",
    "from keras.layers import Dense, GlobalAveragePooling2D\n",
    "from keras import backend as K\n",
    "from keras.applications.resnet50 import preprocess_input"
   ]
  },
  {
   "cell_type": "code",
   "execution_count": 6,
   "metadata": {},
   "outputs": [],
   "source": [
    "train_data_dir = f'{PATH}train'\n",
    "validation_data_dir = f'{PATH}valid'"
   ]
  },
  {
   "cell_type": "code",
   "execution_count": null,
   "metadata": {},
   "outputs": [],
   "source": []
  },
  {
   "cell_type": "code",
   "execution_count": null,
   "metadata": {},
   "outputs": [],
   "source": []
  },
  {
   "cell_type": "code",
   "execution_count": 7,
   "metadata": {},
   "outputs": [
    {
     "name": "stdout",
     "output_type": "stream",
     "text": [
      "Found 23000 images belonging to 2 classes.\n",
      "Found 2000 images belonging to 2 classes.\n"
     ]
    }
   ],
   "source": [
    "train_datagen = ImageDataGenerator(preprocessing_function=preprocess_input,\n",
    "    shear_range=0.2, zoom_range=0.2, horizontal_flip=True)\n",
    "\n",
    "test_datagen = ImageDataGenerator(preprocessing_function=preprocess_input)\n",
    "\n",
    "train_generator = train_datagen.flow_from_directory(train_data_dir,\n",
    "    target_size=(sz, sz),\n",
    "    batch_size=batch_size, class_mode='binary')\n",
    "\n",
    "validation_generator = test_datagen.flow_from_directory(validation_data_dir,\n",
    "    shuffle=False,\n",
    "    target_size=(sz, sz),\n",
    "    batch_size=batch_size, class_mode='binary')"
   ]
  },
  {
   "cell_type": "code",
   "execution_count": 33,
   "metadata": {},
   "outputs": [
    {
     "name": "stderr",
     "output_type": "stream",
     "text": [
      "C:\\Users\\anshu\\Anaconda3\\lib\\site-packages\\keras_applications\\resnet50.py:263: UserWarning: The output shape of `ResNet50(include_top=False)` has been changed since Keras 2.2.0.\n",
      "  warnings.warn('The output shape of `ResNet50(include_top=False)` '\n"
     ]
    }
   ],
   "source": [
    "base_model = ResNet50(weights='imagenet', include_top=False)\n",
    "x = base_model.output\n",
    "x = GlobalAveragePooling2D()(x)\n",
    "x = Dense(1024, activation='relu')(x)\n",
    "x = Dense(1024, activation='relu')(x)\n",
    "predictions = Dense(1, activation='sigmoid')(x)"
   ]
  },
  {
   "cell_type": "code",
   "execution_count": 34,
   "metadata": {},
   "outputs": [],
   "source": [
    "model = Model(inputs=base_model.input, outputs=predictions)\n",
    "for layer in base_model.layers: layer.trainable = False\n",
    "model.compile(optimizer='rmsprop', loss='binary_crossentropy', metrics=['accuracy'])"
   ]
  },
  {
   "cell_type": "code",
   "execution_count": 35,
   "metadata": {},
   "outputs": [
    {
     "name": "stdout",
     "output_type": "stream",
     "text": [
      "Epoch 1/20\n",
      "11/11 [==============================] - 12s 1s/step - loss: 2.9145 - acc: 0.7829 - val_loss: 3.1896 - val_acc: 0.8021\n",
      "Epoch 2/20\n",
      "11/11 [==============================] - 7s 665ms/step - loss: 3.1595 - acc: 0.8040 - val_loss: 3.1896 - val_acc: 0.8021\n",
      "Epoch 3/20\n",
      "11/11 [==============================] - 7s 681ms/step - loss: 3.2939 - acc: 0.7956 - val_loss: 3.1896 - val_acc: 0.8021\n",
      "Epoch 4/20\n",
      "11/11 [==============================] - 7s 681ms/step - loss: 3.4183 - acc: 0.7879 - val_loss: 3.1896 - val_acc: 0.8021\n",
      "Epoch 5/20\n",
      "11/11 [==============================] - 7s 662ms/step - loss: 3.1834 - acc: 0.8025 - val_loss: 3.1896 - val_acc: 0.8021\n",
      "Epoch 6/20\n",
      "11/11 [==============================] - 7s 647ms/step - loss: 3.2740 - acc: 0.7969 - val_loss: 3.1896 - val_acc: 0.8021\n",
      "Epoch 7/20\n",
      "11/11 [==============================] - 7s 658ms/step - loss: 3.5225 - acc: 0.7815 - val_loss: 3.1896 - val_acc: 0.8021\n",
      "Epoch 8/20\n",
      "11/11 [==============================] - 7s 656ms/step - loss: 2.8390 - acc: 0.8239 - val_loss: 3.1896 - val_acc: 0.8021\n",
      "Epoch 9/20\n",
      "11/11 [==============================] - 7s 658ms/step - loss: 3.4936 - acc: 0.7833 - val_loss: 3.1896 - val_acc: 0.8021\n",
      "Epoch 10/20\n",
      "11/11 [==============================] - 7s 674ms/step - loss: 3.0805 - acc: 0.8089 - val_loss: 3.1896 - val_acc: 0.8021\n",
      "Epoch 11/20\n",
      "11/11 [==============================] - 8s 704ms/step - loss: 2.9423 - acc: 0.8175 - val_loss: 3.1896 - val_acc: 0.8021\n",
      "Epoch 12/20\n",
      "11/11 [==============================] - 7s 640ms/step - loss: 3.2233 - acc: 0.8000 - val_loss: 3.1896 - val_acc: 0.8021\n",
      "Epoch 13/20\n",
      "11/11 [==============================] - 7s 625ms/step - loss: 3.3155 - acc: 0.7943 - val_loss: 3.1896 - val_acc: 0.8021\n",
      "Epoch 14/20\n",
      "11/11 [==============================] - 8s 710ms/step - loss: 2.9992 - acc: 0.8139 - val_loss: 3.1896 - val_acc: 0.8021\n",
      "Epoch 15/20\n",
      "11/11 [==============================] - 8s 693ms/step - loss: 3.2939 - acc: 0.7956 - val_loss: 3.1896 - val_acc: 0.8021\n",
      "Epoch 16/20\n",
      "11/11 [==============================] - 8s 698ms/step - loss: 3.2282 - acc: 0.7997 - val_loss: 3.1896 - val_acc: 0.8021\n",
      "Epoch 17/20\n",
      "11/11 [==============================] - 8s 721ms/step - loss: 3.0513 - acc: 0.8107 - val_loss: 3.1896 - val_acc: 0.8021\n",
      "Epoch 18/20\n",
      "11/11 [==============================] - 8s 711ms/step - loss: 3.1845 - acc: 0.8024 - val_loss: 3.1896 - val_acc: 0.8021\n",
      "Epoch 19/20\n",
      "11/11 [==============================] - 8s 690ms/step - loss: 3.1824 - acc: 0.8026 - val_loss: 3.1896 - val_acc: 0.8021\n",
      "Epoch 20/20\n",
      "11/11 [==============================] - 8s 705ms/step - loss: 3.3323 - acc: 0.7933 - val_loss: 3.1896 - val_acc: 0.8021\n",
      "Wall time: 2min 33s\n"
     ]
    },
    {
     "data": {
      "text/plain": [
       "<keras.callbacks.History at 0x18e76691e48>"
      ]
     },
     "execution_count": 35,
     "metadata": {},
     "output_type": "execute_result"
    }
   ],
   "source": [
    "%%time\n",
    "model.fit_generator(train_generator, train_generator.n // batch_size, epochs=20, workers=4,\n",
    "        validation_data=validation_generator, validation_steps=validation_generator.n // batch_size)"
   ]
  },
  {
   "cell_type": "code",
   "execution_count": 25,
   "metadata": {},
   "outputs": [],
   "source": [
    "split_at = 140\n",
    "for layer in model.layers[:split_at]: layer.trainable = False\n",
    "for layer in model.layers[split_at:]: layer.trainable = True\n",
    "model.compile(optimizer='rmsprop', loss='binary_crossentropy', metrics=['accuracy'])    "
   ]
  },
  {
   "cell_type": "code",
   "execution_count": 26,
   "metadata": {},
   "outputs": [
    {
     "name": "stdout",
     "output_type": "stream",
     "text": [
      "Epoch 1/10\n",
      "11/11 [==============================] - 13s 1s/step - loss: 2.9479 - acc: 0.7627 - val_loss: 3.1896 - val_acc: 0.8021\n",
      "Epoch 2/10\n",
      "11/11 [==============================] - 8s 689ms/step - loss: 3.2126 - acc: 0.8007 - val_loss: 3.1896 - val_acc: 0.8021\n",
      "Epoch 3/10\n",
      "11/11 [==============================] - 8s 694ms/step - loss: 3.1895 - acc: 0.8021 - val_loss: 3.1896 - val_acc: 0.8021\n",
      "Epoch 4/10\n",
      "11/11 [==============================] - 8s 706ms/step - loss: 3.0390 - acc: 0.8115 - val_loss: 3.1896 - val_acc: 0.8021\n",
      "Epoch 5/10\n",
      "11/11 [==============================] - 8s 727ms/step - loss: 3.2740 - acc: 0.7969 - val_loss: 3.1896 - val_acc: 0.8021\n",
      "Epoch 6/10\n",
      "11/11 [==============================] - 7s 674ms/step - loss: 3.1249 - acc: 0.8061 - val_loss: 3.1896 - val_acc: 0.8021\n",
      "Epoch 7/10\n",
      "11/11 [==============================] - 8s 711ms/step - loss: 3.3198 - acc: 0.7940 - val_loss: 3.1896 - val_acc: 0.8021\n",
      "Epoch 8/10\n",
      "11/11 [==============================] - 7s 672ms/step - loss: 3.0974 - acc: 0.8078 - val_loss: 3.1896 - val_acc: 0.8021\n",
      "Epoch 9/10\n",
      "11/11 [==============================] - 8s 697ms/step - loss: 3.1035 - acc: 0.8075 - val_loss: 3.1896 - val_acc: 0.8021\n",
      "Epoch 10/10\n",
      "11/11 [==============================] - 8s 683ms/step - loss: 3.0513 - acc: 0.8107 - val_loss: 3.1896 - val_acc: 0.8021\n",
      "Wall time: 1min 22s\n"
     ]
    },
    {
     "data": {
      "text/plain": [
       "<keras.callbacks.History at 0x18e75f000b8>"
      ]
     },
     "execution_count": 26,
     "metadata": {},
     "output_type": "execute_result"
    }
   ],
   "source": [
    "%%time\n",
    "model.fit_generator(train_generator, train_generator.n // batch_size, epochs=10, workers=3,\n",
    "        validation_data=validation_generator, validation_steps=validation_generator.n // batch_size)"
   ]
  },
  {
   "cell_type": "code",
   "execution_count": null,
   "metadata": {
    "collapsed": true
   },
   "outputs": [],
   "source": []
  }
 ],
 "metadata": {
  "_draft": {
   "nbviewer_url": "https://gist.github.com/135ebf9ccb113b1af214bc2b3ed1c20e"
  },
  "gist": {
   "data": {
    "description": "keras_lesson1",
    "public": true
   },
   "id": "135ebf9ccb113b1af214bc2b3ed1c20e"
  },
  "kernelspec": {
   "display_name": "Python 3",
   "language": "python",
   "name": "python3"
  },
  "language_info": {
   "codemirror_mode": {
    "name": "ipython",
    "version": 3
   },
   "file_extension": ".py",
   "mimetype": "text/x-python",
   "name": "python",
   "nbconvert_exporter": "python",
   "pygments_lexer": "ipython3",
   "version": "3.6.5"
  },
  "toc": {
   "colors": {
    "hover_highlight": "#DAA520",
    "navigate_num": "#000000",
    "navigate_text": "#333333",
    "running_highlight": "#FF0000",
    "selected_highlight": "#FFD700",
    "sidebar_border": "#EEEEEE",
    "wrapper_background": "#FFFFFF"
   },
   "moveMenuLeft": true,
   "nav_menu": {
    "height": "266px",
    "width": "252px"
   },
   "navigate_menu": true,
   "number_sections": true,
   "sideBar": true,
   "threshold": 4,
   "toc_cell": false,
   "toc_section_display": "block",
   "toc_window_display": false,
   "widenNotebook": false
  }
 },
 "nbformat": 4,
 "nbformat_minor": 2
}
