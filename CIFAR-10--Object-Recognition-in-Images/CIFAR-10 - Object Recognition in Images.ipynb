{
 "cells": [
  {
   "cell_type": "code",
   "execution_count": 59,
   "metadata": {},
   "outputs": [],
   "source": [
    "import numpy as np\n",
    "from keras.preprocessing.image import ImageDataGenerator\n",
    "from keras.preprocessing import image\n",
    "from keras.layers import Dropout, Flatten, Dense, Conv2D\n",
    "from keras.applications import ResNet50\n",
    "from keras.models import Model, Sequential\n",
    "from keras.layers import Dense, GlobalAveragePooling2D, GlobalMaxPooling2D, MaxPooling2D\n",
    "from keras.layers import BatchNormalization, Dropout\n",
    "from keras import backend as K\n",
    "from keras.applications.resnet50 import preprocess_input\n",
    "from keras.callbacks import EarlyStopping\n",
    "from keras.optimizers import Adam"
   ]
  },
  {
   "cell_type": "code",
   "execution_count": 3,
   "metadata": {},
   "outputs": [],
   "source": [
    "import pandas as pd\n",
    "from scipy.misc import imread\n",
    "import os\n",
    "import matplotlib.pyplot as plt\n",
    "\n",
    "join = os.path.join"
   ]
  },
  {
   "cell_type": "code",
   "execution_count": null,
   "metadata": {},
   "outputs": [],
   "source": []
  },
  {
   "cell_type": "code",
   "execution_count": 4,
   "metadata": {},
   "outputs": [
    {
     "data": {
      "text/plain": [
       "50000"
      ]
     },
     "execution_count": 4,
     "metadata": {},
     "output_type": "execute_result"
    }
   ],
   "source": [
    "PATH = \"d:\\\\data\\\\cifar-10\\\\\"\n",
    "cifar_train_path = f'{PATH}train'\n",
    "len(os.listdir(cifar_train_path))"
   ]
  },
  {
   "cell_type": "code",
   "execution_count": 6,
   "metadata": {},
   "outputs": [
    {
     "data": {
      "text/plain": [
       "'cat'"
      ]
     },
     "execution_count": 6,
     "metadata": {},
     "output_type": "execute_result"
    }
   ],
   "source": [
    "label_df = pd.read_csv(join(PATH, 'trainLabels.csv'))\n",
    "label_df[label_df.id == 10].values[0][1]"
   ]
  },
  {
   "cell_type": "code",
   "execution_count": 5,
   "metadata": {},
   "outputs": [],
   "source": [
    "def load_cifar_10(path, label_file_name):\n",
    "    \"\"\"returns X_train, y_train, X_val, y_val\"\"\"\n",
    "    image_file_names = os.listdir(join(path, 'train'))\n",
    "    label_df = pd.read_csv(join(path, label_file_name))\n",
    "    img_ids, img_labels = label_df.id, label_df.label\n",
    "    data = []\n",
    "    labels = []\n",
    "    for image_file_name in image_file_names:\n",
    "        image_file = image_file_name.split(\".\")[0]\n",
    "        image_data = imread(join(path, 'train', image_file_name))\n",
    "        image_label = label_df[label_df.id == int(image_file)].values[0][1]\n",
    "        #data.append(preprocess_input(image_data, mode='torch'))\n",
    "        image_data = image_data/255.0\n",
    "        data.append(image_data)\n",
    "        labels.append(image_label)\n",
    "        #print(image_data, image_label)        \n",
    "        #plt.imshow(image_data)\n",
    "        #print(image_label)\n",
    "    return np.array(data), np.array(labels)\n",
    "        \n",
    "def load_cifar_10_test(path):\n",
    "    image_file_names = os.listdir(join(path, 'test'))\n",
    "    print(image_file_names[-10:-1])\n",
    "    data = []\n",
    "    test_ids = []\n",
    "    for image_file_name in image_file_names:\n",
    "        id_name = image_file_name.split(\".\")[0]\n",
    "        image_data = imread(join(path, 'test', image_file_name))\n",
    "        image_data = image_data/255.0\n",
    "        data.append(image_data)\n",
    "        test_ids.append(id_name)\n",
    "    return np.array(data), np.array(test_ids)\n",
    "        \n",
    "        "
   ]
  },
  {
   "cell_type": "code",
   "execution_count": 6,
   "metadata": {},
   "outputs": [
    {
     "name": "stderr",
     "output_type": "stream",
     "text": [
      "C:\\Users\\anshu\\Anaconda3\\lib\\site-packages\\ipykernel_launcher.py:10: DeprecationWarning: `imread` is deprecated!\n",
      "`imread` is deprecated in SciPy 1.0.0, and will be removed in 1.2.0.\n",
      "Use ``imageio.imread`` instead.\n",
      "  # Remove the CWD from sys.path while we load stuff.\n"
     ]
    }
   ],
   "source": [
    "data, labels = load_cifar_10(PATH, 'trainLabels.csv')"
   ]
  },
  {
   "cell_type": "code",
   "execution_count": null,
   "metadata": {},
   "outputs": [],
   "source": [
    "test, test_ids = load_cifar_10_test(PATH)"
   ]
  },
  {
   "cell_type": "code",
   "execution_count": null,
   "metadata": {},
   "outputs": [],
   "source": []
  },
  {
   "cell_type": "code",
   "execution_count": 8,
   "metadata": {},
   "outputs": [
    {
     "data": {
      "text/plain": [
       "((300000, 32, 32, 3), (300000,))"
      ]
     },
     "execution_count": 8,
     "metadata": {},
     "output_type": "execute_result"
    }
   ],
   "source": [
    "test.shape, test_ids.shape"
   ]
  },
  {
   "cell_type": "code",
   "execution_count": 9,
   "metadata": {},
   "outputs": [],
   "source": [
    "from sklearn.model_selection import train_test_split\n",
    "X_train, X_test, y_train, y_test = train_test_split(data, labels, test_size=0.1, random_state=42)"
   ]
  },
  {
   "cell_type": "code",
   "execution_count": 10,
   "metadata": {},
   "outputs": [],
   "source": [
    "from sklearn.preprocessing import LabelBinarizer\n",
    "encoder = LabelBinarizer()\n",
    "encoder.fit(labels)\n",
    "y_train = encoder.transform(y_train)\n",
    "y_test = encoder.transform(y_test)"
   ]
  },
  {
   "cell_type": "code",
   "execution_count": 11,
   "metadata": {},
   "outputs": [
    {
     "data": {
      "text/plain": [
       "(5000, 10)"
      ]
     },
     "execution_count": 11,
     "metadata": {},
     "output_type": "execute_result"
    }
   ],
   "source": [
    "y_test.shape"
   ]
  },
  {
   "cell_type": "code",
   "execution_count": 12,
   "metadata": {},
   "outputs": [],
   "source": [
    "del data\n",
    "del labels"
   ]
  },
  {
   "cell_type": "code",
   "execution_count": 60,
   "metadata": {},
   "outputs": [],
   "source": [
    "# Create the model\n",
    "model = Sequential()\n",
    "\n",
    "model.add(Conv2D(32, kernel_size=(3, 3), activation='relu', padding='same', input_shape=(32, 32, 3)))\n",
    "model.add(Conv2D(64, kernel_size=(3, 3), padding='same', activation='relu'))\n",
    "model.add(MaxPooling2D(pool_size=(2, 2)))\n",
    "model.add(BatchNormalization())\n",
    "\n",
    "model.add(Conv2D(128, kernel_size=(3, 3),  padding='same', activation='relu'))\n",
    "model.add(BatchNormalization())\n",
    "model.add(Conv2D(128, kernel_size=(3, 3),  padding='same', activation='relu'))\n",
    "model.add(MaxPooling2D(pool_size=(2, 2)))\n",
    "model.add(BatchNormalization())\n",
    "\n",
    "model.add(Conv2D(128, kernel_size=(3, 3),  padding='same', activation='relu'))\n",
    "model.add(BatchNormalization())\n",
    "model.add(Conv2D(128, kernel_size=(3, 3),  padding='same', activation='relu'))\n",
    "model.add(MaxPooling2D(pool_size=(2, 2)))\n",
    "model.add(BatchNormalization())\n",
    "\n",
    "model.add(Flatten())\n",
    "model.add(Dense(512, activation='relu'))\n",
    "model.add(Dropout(0.5))\n",
    "model.add(Dense(512, activation='relu'))\n",
    "model.add(Dense(10, activation='softmax'))\n",
    "#model.compile(optimizer='rmsprop', loss='categorical_crossentropy', metrics=['accuracy'])\n",
    "adam = Adam(lr=0.0001, decay=1e-6)\n",
    "model.compile(optimizer=adam, loss='categorical_crossentropy', metrics=['accuracy'])"
   ]
  },
  {
   "cell_type": "code",
   "execution_count": 64,
   "metadata": {},
   "outputs": [],
   "source": [
    "from skimage import exposure\n",
    "\n",
    "def adaptive_hist_equalization(img):\n",
    "    img_adapteq = exposure.equalize_adapthist(img, clip_limit=0.03)\n",
    "    return img_adapteq\n",
    "\n",
    "train_datagen = ImageDataGenerator(shear_range=0.2, zoom_range=0.2, horizontal_flip=True, rotation_range=0.2)\n",
    "train_datagen.fit(X_train)"
   ]
  },
  {
   "cell_type": "code",
   "execution_count": 65,
   "metadata": {},
   "outputs": [
    {
     "name": "stdout",
     "output_type": "stream",
     "text": [
      "Epoch 1/100\n",
      "703/703 [==============================] - 42s 60ms/step - loss: 1.4283 - acc: 0.4891 - val_loss: 1.2740 - val_acc: 0.5502\n",
      "Epoch 2/100\n",
      "703/703 [==============================] - 42s 59ms/step - loss: 1.2822 - acc: 0.5399 - val_loss: 1.2358 - val_acc: 0.5608\n",
      "Epoch 3/100\n",
      "703/703 [==============================] - 42s 59ms/step - loss: 1.1511 - acc: 0.5870 - val_loss: 1.2159 - val_acc: 0.5774\n",
      "Epoch 4/100\n",
      "703/703 [==============================] - 42s 60ms/step - loss: 1.0897 - acc: 0.6098 - val_loss: 1.1246 - val_acc: 0.6016\n",
      "Epoch 5/100\n",
      "703/703 [==============================] - 42s 60ms/step - loss: 1.0108 - acc: 0.6423 - val_loss: 0.9103 - val_acc: 0.6768\n",
      "Epoch 6/100\n",
      "703/703 [==============================] - 42s 60ms/step - loss: 0.9666 - acc: 0.6583 - val_loss: 0.9470 - val_acc: 0.6774\n",
      "Epoch 7/100\n",
      "703/703 [==============================] - 42s 60ms/step - loss: 0.9060 - acc: 0.6801 - val_loss: 0.9129 - val_acc: 0.6846\n",
      "Epoch 8/100\n",
      "703/703 [==============================] - 40s 58ms/step - loss: 0.8747 - acc: 0.6909 - val_loss: 0.9022 - val_acc: 0.6842\n",
      "Epoch 9/100\n",
      "703/703 [==============================] - 40s 57ms/step - loss: 0.8204 - acc: 0.7100 - val_loss: 0.7830 - val_acc: 0.7298\n",
      "Epoch 10/100\n",
      "703/703 [==============================] - 40s 57ms/step - loss: 0.8104 - acc: 0.7158 - val_loss: 0.8043 - val_acc: 0.7210\n",
      "Epoch 11/100\n",
      "703/703 [==============================] - 40s 57ms/step - loss: 0.7634 - acc: 0.7332 - val_loss: 0.7970 - val_acc: 0.7224\n",
      "Epoch 12/100\n",
      "703/703 [==============================] - 40s 57ms/step - loss: 0.7484 - acc: 0.7404 - val_loss: 0.6993 - val_acc: 0.7574\n",
      "Epoch 13/100\n",
      "703/703 [==============================] - 40s 57ms/step - loss: 0.6991 - acc: 0.7508 - val_loss: 0.7004 - val_acc: 0.7526\n",
      "Epoch 14/100\n",
      "703/703 [==============================] - 40s 56ms/step - loss: 0.7145 - acc: 0.7499 - val_loss: 0.6737 - val_acc: 0.7682\n",
      "Epoch 15/100\n",
      "703/703 [==============================] - 40s 57ms/step - loss: 0.6586 - acc: 0.7674 - val_loss: 0.6980 - val_acc: 0.7526\n",
      "Epoch 16/100\n",
      "703/703 [==============================] - 40s 57ms/step - loss: 0.6561 - acc: 0.7699 - val_loss: 0.6445 - val_acc: 0.7790\n",
      "Epoch 17/100\n",
      "703/703 [==============================] - 40s 57ms/step - loss: 0.6207 - acc: 0.7807 - val_loss: 0.7007 - val_acc: 0.7584\n",
      "Epoch 18/100\n",
      "703/703 [==============================] - 40s 57ms/step - loss: 0.6193 - acc: 0.7830 - val_loss: 0.6370 - val_acc: 0.7830\n",
      "Epoch 19/100\n",
      "703/703 [==============================] - 40s 57ms/step - loss: 0.5851 - acc: 0.7923 - val_loss: 0.6170 - val_acc: 0.7878\n",
      "Epoch 20/100\n",
      "703/703 [==============================] - 40s 57ms/step - loss: 0.5852 - acc: 0.7932 - val_loss: 0.6910 - val_acc: 0.7614\n",
      "Epoch 21/100\n",
      "703/703 [==============================] - 40s 57ms/step - loss: 0.5484 - acc: 0.8066 - val_loss: 0.5938 - val_acc: 0.7914\n",
      "Epoch 22/100\n",
      "703/703 [==============================] - 43s 61ms/step - loss: 0.5620 - acc: 0.8033 - val_loss: 0.5665 - val_acc: 0.8036\n",
      "Epoch 23/100\n",
      "703/703 [==============================] - 46s 65ms/step - loss: 0.5233 - acc: 0.8134 - val_loss: 0.5518 - val_acc: 0.8050\n",
      "Epoch 24/100\n",
      "703/703 [==============================] - 43s 61ms/step - loss: 0.5459 - acc: 0.8059 - val_loss: 0.6268 - val_acc: 0.7876\n",
      "Epoch 25/100\n",
      "703/703 [==============================] - 43s 62ms/step - loss: 0.5072 - acc: 0.8221 - val_loss: 0.5395 - val_acc: 0.8104\n",
      "Epoch 26/100\n",
      "703/703 [==============================] - 42s 60ms/step - loss: 0.5006 - acc: 0.8212 - val_loss: 0.6165 - val_acc: 0.7890\n",
      "Epoch 27/100\n",
      "703/703 [==============================] - 40s 56ms/step - loss: 0.4792 - acc: 0.8309 - val_loss: 0.5389 - val_acc: 0.8196\n",
      "Epoch 28/100\n",
      "703/703 [==============================] - 40s 56ms/step - loss: 0.4829 - acc: 0.8298 - val_loss: 0.5352 - val_acc: 0.8132\n",
      "Epoch 29/100\n",
      "703/703 [==============================] - 40s 57ms/step - loss: 0.4570 - acc: 0.8416 - val_loss: 0.5214 - val_acc: 0.8214\n",
      "Epoch 30/100\n",
      "703/703 [==============================] - 40s 56ms/step - loss: 0.4698 - acc: 0.8349 - val_loss: 0.5891 - val_acc: 0.8068\n",
      "Epoch 31/100\n",
      "703/703 [==============================] - 40s 56ms/step - loss: 0.4398 - acc: 0.8444 - val_loss: 0.4884 - val_acc: 0.8320\n",
      "Epoch 32/100\n",
      "703/703 [==============================] - 40s 56ms/step - loss: 0.4344 - acc: 0.8469 - val_loss: 0.5667 - val_acc: 0.8058\n",
      "Epoch 33/100\n",
      "703/703 [==============================] - 40s 57ms/step - loss: 0.4106 - acc: 0.8556 - val_loss: 0.5057 - val_acc: 0.8284\n",
      "Epoch 34/100\n",
      "703/703 [==============================] - 38s 55ms/step - loss: 0.4322 - acc: 0.8482 - val_loss: 0.5159 - val_acc: 0.8294\n",
      "Epoch 35/100\n",
      "703/703 [==============================] - 39s 55ms/step - loss: 0.4026 - acc: 0.8600 - val_loss: 0.4962 - val_acc: 0.8282\n",
      "Epoch 36/100\n",
      "703/703 [==============================] - 43s 61ms/step - loss: 0.4013 - acc: 0.8597 - val_loss: 0.5178 - val_acc: 0.8240\n",
      "Epoch 37/100\n",
      "703/703 [==============================] - 44s 62ms/step - loss: 0.3810 - acc: 0.8655 - val_loss: 0.5138 - val_acc: 0.8288\n",
      "Epoch 38/100\n",
      "703/703 [==============================] - 42s 60ms/step - loss: 0.3933 - acc: 0.8624 - val_loss: 0.4717 - val_acc: 0.8422\n",
      "Epoch 39/100\n",
      "703/703 [==============================] - 30s 42ms/step - loss: 0.3672 - acc: 0.8725 - val_loss: 0.5137 - val_acc: 0.8300\n",
      "Epoch 40/100\n",
      "703/703 [==============================] - 17s 24ms/step - loss: 0.3792 - acc: 0.8673 - val_loss: 0.5027 - val_acc: 0.8288\n",
      "Epoch 41/100\n",
      "703/703 [==============================] - 16s 23ms/step - loss: 0.3456 - acc: 0.8780 - val_loss: 0.4546 - val_acc: 0.8456\n",
      "Epoch 42/100\n",
      "703/703 [==============================] - 16s 23ms/step - loss: 0.3742 - acc: 0.8688 - val_loss: 0.4655 - val_acc: 0.8420\n",
      "Epoch 43/100\n",
      "703/703 [==============================] - 16s 23ms/step - loss: 0.3430 - acc: 0.8817 - val_loss: 0.4911 - val_acc: 0.8386\n",
      "Epoch 44/100\n",
      "703/703 [==============================] - 16s 23ms/step - loss: 0.3378 - acc: 0.8834 - val_loss: 0.4710 - val_acc: 0.8438\n",
      "Epoch 45/100\n",
      "703/703 [==============================] - 16s 23ms/step - loss: 0.3347 - acc: 0.8835 - val_loss: 0.4656 - val_acc: 0.8502\n",
      "Epoch 46/100\n",
      "703/703 [==============================] - 16s 23ms/step - loss: 0.3358 - acc: 0.8844 - val_loss: 0.4643 - val_acc: 0.8490\n",
      "Epoch 47/100\n",
      "703/703 [==============================] - 16s 23ms/step - loss: 0.3061 - acc: 0.8940 - val_loss: 0.4740 - val_acc: 0.8448\n",
      "Epoch 48/100\n",
      "703/703 [==============================] - 16s 23ms/step - loss: 0.3228 - acc: 0.8866 - val_loss: 0.4693 - val_acc: 0.8428\n",
      "Epoch 49/100\n",
      "703/703 [==============================] - 16s 23ms/step - loss: 0.3040 - acc: 0.8928 - val_loss: 0.4554 - val_acc: 0.8528\n",
      "Epoch 50/100\n",
      "703/703 [==============================] - 16s 23ms/step - loss: 0.3146 - acc: 0.8900 - val_loss: 0.4762 - val_acc: 0.8490\n",
      "Epoch 51/100\n",
      "703/703 [==============================] - 17s 24ms/step - loss: 0.2911 - acc: 0.8956 - val_loss: 0.5122 - val_acc: 0.8368\n"
     ]
    },
    {
     "data": {
      "text/plain": [
       "<keras.callbacks.History at 0x1ffbf1480b8>"
      ]
     },
     "execution_count": 65,
     "metadata": {},
     "output_type": "execute_result"
    }
   ],
   "source": [
    "model.fit_generator(train_datagen.flow(X_train, y_train), X_train.shape[0] // 64, epochs=100, workers=4,\n",
    "                   validation_data=(X_test, y_test), callbacks=[EarlyStopping(min_delta=0.001, patience=10)])\n"
   ]
  },
  {
   "cell_type": "code",
   "execution_count": null,
   "metadata": {},
   "outputs": [],
   "source": []
  },
  {
   "cell_type": "code",
   "execution_count": 38,
   "metadata": {},
   "outputs": [],
   "source": [
    "model.save('val_acc_8544.h5')"
   ]
  },
  {
   "cell_type": "code",
   "execution_count": 66,
   "metadata": {},
   "outputs": [],
   "source": [
    "preds = model.predict(test)"
   ]
  },
  {
   "cell_type": "code",
   "execution_count": 67,
   "metadata": {},
   "outputs": [
    {
     "data": {
      "text/plain": [
       "array([7.4591017e-03, 4.4542027e-04, 1.9460749e-02, 2.2250682e-01,\n",
       "       6.8381917e-01, 2.3572706e-02, 2.5662823e-04, 1.9937361e-02,\n",
       "       3.6638486e-03, 1.8878268e-02], dtype=float32)"
      ]
     },
     "execution_count": 67,
     "metadata": {},
     "output_type": "execute_result"
    }
   ],
   "source": [
    "preds[0]"
   ]
  },
  {
   "cell_type": "code",
   "execution_count": 68,
   "metadata": {},
   "outputs": [],
   "source": [
    "from keras.utils import to_categorical\n",
    "preds_one_hot = to_categorical(np.argmax(preds, axis=1))"
   ]
  },
  {
   "cell_type": "code",
   "execution_count": 70,
   "metadata": {},
   "outputs": [
    {
     "data": {
      "text/plain": [
       "array([0., 0., 0., 0., 1., 0., 0., 0., 0., 0.], dtype=float32)"
      ]
     },
     "execution_count": 70,
     "metadata": {},
     "output_type": "execute_result"
    }
   ],
   "source": [
    "preds_one_hot[0]"
   ]
  },
  {
   "cell_type": "code",
   "execution_count": 71,
   "metadata": {},
   "outputs": [],
   "source": [
    "def submission(preds, test_ids, file_name):\n",
    "    with open(file_name, \"w\") as fp:\n",
    "        fp.write(\"id,label\\n\")\n",
    "        for id, pred in zip(test_ids, preds):\n",
    "            fp.write(\"{},{}\\n\".format(id, encoder.inverse_transform(np.array([pred]))[0]))\n",
    "submission(preds_one_hot, test_ids, 'sub_3.csv')\n",
    "            "
   ]
  },
  {
   "cell_type": "code",
   "execution_count": null,
   "metadata": {
    "collapsed": true
   },
   "outputs": [],
   "source": []
  }
 ],
 "metadata": {
  "_draft": {
   "nbviewer_url": "https://gist.github.com/135ebf9ccb113b1af214bc2b3ed1c20e"
  },
  "gist": {
   "data": {
    "description": "keras_lesson1",
    "public": true
   },
   "id": "135ebf9ccb113b1af214bc2b3ed1c20e"
  },
  "kernelspec": {
   "display_name": "Python 3",
   "language": "python",
   "name": "python3"
  },
  "language_info": {
   "codemirror_mode": {
    "name": "ipython",
    "version": 3
   },
   "file_extension": ".py",
   "mimetype": "text/x-python",
   "name": "python",
   "nbconvert_exporter": "python",
   "pygments_lexer": "ipython3",
   "version": "3.6.5"
  },
  "toc": {
   "colors": {
    "hover_highlight": "#DAA520",
    "navigate_num": "#000000",
    "navigate_text": "#333333",
    "running_highlight": "#FF0000",
    "selected_highlight": "#FFD700",
    "sidebar_border": "#EEEEEE",
    "wrapper_background": "#FFFFFF"
   },
   "moveMenuLeft": true,
   "nav_menu": {
    "height": "266px",
    "width": "252px"
   },
   "navigate_menu": true,
   "number_sections": true,
   "sideBar": true,
   "threshold": 4,
   "toc_cell": false,
   "toc_section_display": "block",
   "toc_window_display": false,
   "widenNotebook": false
  }
 },
 "nbformat": 4,
 "nbformat_minor": 2
}
